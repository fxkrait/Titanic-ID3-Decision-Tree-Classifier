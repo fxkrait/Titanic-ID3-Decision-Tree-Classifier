{
 "cells": [
  {
   "cell_type": "markdown",
   "metadata": {},
   "source": [
    "## Assignment1 TCSS455-ML Stats Problems & Creation Of ID3 Decision Tree for the Titanic DataSet\n",
    "- Gregory Hablutzel\n",
    "- 10/18/20"
   ]
  },
  {
   "cell_type": "code",
   "execution_count": 1,
   "metadata": {},
   "outputs": [],
   "source": [
    "# Imports\n",
    "import numpy as np\n",
    "import matplotlib.pyplot as plt\n",
    "import pickle"
   ]
  },
  {
   "cell_type": "markdown",
   "metadata": {},
   "source": [
    "# Part 1: Easing into data analysis with some statistical warm up exercises .."
   ]
  },
  {
   "cell_type": "markdown",
   "metadata": {},
   "source": [
    "# Q1. Suppose that the values for a given set of data are grouped into intervals. The intervals and corresponding frequencies are as follows. (3 points)\n",
    "- Output your Answer as Q1_answer.txt in the output directory:"
   ]
  },
  {
   "cell_type": "code",
   "execution_count": 2,
   "metadata": {},
   "outputs": [
    {
     "name": "stdout",
     "output_type": "stream",
     "text": [
      "The approximate-median value interval starts with: 20.0\n",
      "Thus the approximate median value of age is the range: 20-50\n"
     ]
    }
   ],
   "source": [
    "## Q1 Find approximate median value of age\n",
    "# -------------------------------------------\n",
    "# https://numpy.org/doc/stable/reference/generated/numpy.median.html\n",
    "\n",
    "values = []\n",
    "\n",
    "for x in range(200):\n",
    "    values.append(1)\n",
    "for x in range(450):\n",
    "    values.append(5)\n",
    "for x in range(300):\n",
    "    values.append(15)\n",
    "for x in range(1500):\n",
    "    values.append(20)\n",
    "for x in range(700):\n",
    "    values.append(50)\n",
    "for x in range(44):\n",
    "    values.append(80)\n",
    "#print (values)\n",
    "print(\"The approximate-median value interval starts with:\", np.median(values))\n",
    "print(\"Thus the approximate median value of age is the range: 20-50\")\n",
    "\n",
    "# The Approximate median value of age is 20-50"
   ]
  },
  {
   "cell_type": "markdown",
   "metadata": {},
   "source": [
    "# Q2. Suppose that the data for analysis includes the attribute age. The age values for the data tuples are (in increasing order) 13, 15, 16, 16, 19, 20, 20, 21, 22, 22, 25, 25, 25, 25, 30, 33, 33, 35, 35, 35, 35, 36, 40, 45, 46, 52, 70. (please copy these values correctly in your input or the calculation will be wrong) (7 points)\n",
    "- Cut Paste your answers to a file Q2_answer.txt and put it in the output directory.."
   ]
  },
  {
   "cell_type": "code",
   "execution_count": 3,
   "metadata": {},
   "outputs": [
    {
     "name": "stdout",
     "output_type": "stream",
     "text": [
      "[13, 15, 16, 16, 19, 20, 20, 21, 22, 22, 25, 25, 25, 25, 30, 33, 33, 35, 35, 35, 35, 36, 40, 45, 46, 52, 70]\n"
     ]
    }
   ],
   "source": [
    "## Q2: Analyize the data:\n",
    "Q2RawData = [13, 15, 16, 16, 19, 20, 20, 21, 22, 22, 25, 25, 25, 25, 30, 33, 33, 35, 35, 35, 35, 36, 40, 45, 46, 52,\n",
    "70] \n",
    "print(Q2RawData)"
   ]
  },
  {
   "cell_type": "markdown",
   "metadata": {},
   "source": [
    "### (a) What is the mean of the data? What is the median?"
   ]
  },
  {
   "cell_type": "code",
   "execution_count": 4,
   "metadata": {},
   "outputs": [
    {
     "name": "stdout",
     "output_type": "stream",
     "text": [
      "Mean is: 29.962962962962962\n",
      "Median is: 25.0\n"
     ]
    }
   ],
   "source": [
    "Q2Mean = np.mean(Q2RawData)\n",
    "print(\"Mean is:\", Q2Mean)\n",
    "Q2Median = np.median(Q2RawData)\n",
    "print(\"Median is:\", Q2Median)"
   ]
  },
  {
   "cell_type": "markdown",
   "metadata": {},
   "source": [
    "## (b) What is the mode of the data? Comment on the data's modality (i.e., bimodal, trimodal, etc.)."
   ]
  },
  {
   "cell_type": "code",
   "execution_count": 5,
   "metadata": {},
   "outputs": [
    {
     "name": "stdout",
     "output_type": "stream",
     "text": [
      "Mode is: 25\n",
      "We can see that this data is tri-modal, as there are 3 distinct 'humps' on a super-imposed outline of the edges of the histogram\n"
     ]
    },
    {
     "data": {
      "image/png": "[encoded data removed]",
      "text/plain": [
       "<Figure size 432x288 with 1 Axes>"
      ]
     },
     "metadata": {
      "needs_background": "light"
     },
     "output_type": "display_data"
    }
   ],
   "source": [
    "import statistics\n",
    "# https://stackoverflow.com/questions/10797819/finding-the-mode-of-a-list\n",
    "Q2Mode = statistics.mode(Q2RawData)\n",
    "print(\"Mode is:\", Q2Mode)\n",
    "\n",
    "# To view modality, we need to make a histogram\n",
    "# https://stackoverflow.com/questions/33203645/how-to-plot-a-histogram-using-matplotlib-in-python-with-a-list-of-data\n",
    "%matplotlib inline\n",
    "plt.hist(Q2RawData, density=False)  # `density=False` would make counts\n",
    "plt.ylabel('count')\n",
    "plt.xlabel('age');\n",
    "#impo\n",
    "print (\"We can see that this data is tri-modal, as there are 3 distinct 'humps' on a super-imposed outline of the edges of the histogram\")"
   ]
  },
  {
   "cell_type": "markdown",
   "metadata": {},
   "source": [
    "## (c) What is the midrange of the data?"
   ]
  },
  {
   "cell_type": "code",
   "execution_count": 6,
   "metadata": {},
   "outputs": [
    {
     "name": "stdout",
     "output_type": "stream",
     "text": [
      "Max is: 70\n",
      "Max is: 13\n",
      "MidRange is: 5.384615384615385\n"
     ]
    }
   ],
   "source": [
    "# https://www.statisticshowto.com/midrange-definition-use/\n",
    "Q2Max = np.max(Q2RawData)\n",
    "print(\"Max is:\", Q2Max)\n",
    "Q2Min = np.min(Q2RawData)\n",
    "print(\"Max is:\", Q2Min)\n",
    "Q2MidRange = Q2Max / Q2Min\n",
    "print(\"MidRange is:\", Q2MidRange)\n",
    "\n"
   ]
  },
  {
   "cell_type": "markdown",
   "metadata": {},
   "source": [
    "## (d) Can you find (roughly) the first quartile (Q1) and the third quartile (Q3) of the data?"
   ]
  },
  {
   "cell_type": "code",
   "execution_count": 7,
   "metadata": {},
   "outputs": [
    {
     "name": "stdout",
     "output_type": "stream",
     "text": [
      "    Age\n",
      "0    13\n",
      "1    15\n",
      "2    16\n",
      "3    16\n",
      "4    19\n",
      "5    20\n",
      "6    20\n",
      "7    21\n",
      "8    22\n",
      "9    22\n",
      "10   25\n",
      "11   25\n",
      "12   25\n",
      "13   25\n",
      "14   30\n",
      "15   33\n",
      "16   33\n",
      "17   35\n",
      "18   35\n",
      "19   35\n",
      "20   35\n",
      "21   36\n",
      "22   40\n",
      "23   45\n",
      "24   46\n",
      "25   52\n",
      "26   70\n",
      "Q1 is: 20.5\n",
      "Q3 is: 35.0\n"
     ]
    },
    {
     "data": {
      "text/html": [
       "<div>\n",
       "<style scoped>\n",
       "    .dataframe tbody tr th:only-of-type {\n",
       "        vertical-align: middle;\n",
       "    }\n",
       "\n",
       "    .dataframe tbody tr th {\n",
       "        vertical-align: top;\n",
       "    }\n",
       "\n",
       "    .dataframe thead th {\n",
       "        text-align: right;\n",
       "    }\n",
       "</style>\n",
       "<table border=\"1\" class=\"dataframe\">\n",
       "  <thead>\n",
       "    <tr style=\"text-align: right;\">\n",
       "      <th></th>\n",
       "      <th>Age</th>\n",
       "    </tr>\n",
       "  </thead>\n",
       "  <tbody>\n",
       "    <tr>\n",
       "      <th>count</th>\n",
       "      <td>27.000000</td>\n",
       "    </tr>\n",
       "    <tr>\n",
       "      <th>mean</th>\n",
       "      <td>29.962963</td>\n",
       "    </tr>\n",
       "    <tr>\n",
       "      <th>std</th>\n",
       "      <td>12.942124</td>\n",
       "    </tr>\n",
       "    <tr>\n",
       "      <th>min</th>\n",
       "      <td>13.000000</td>\n",
       "    </tr>\n",
       "    <tr>\n",
       "      <th>25%</th>\n",
       "      <td>20.500000</td>\n",
       "    </tr>\n",
       "    <tr>\n",
       "      <th>50%</th>\n",
       "      <td>25.000000</td>\n",
       "    </tr>\n",
       "    <tr>\n",
       "      <th>75%</th>\n",
       "      <td>35.000000</td>\n",
       "    </tr>\n",
       "    <tr>\n",
       "      <th>max</th>\n",
       "      <td>70.000000</td>\n",
       "    </tr>\n",
       "  </tbody>\n",
       "</table>\n",
       "</div>"
      ],
      "text/plain": [
       "             Age\n",
       "count  27.000000\n",
       "mean   29.962963\n",
       "std    12.942124\n",
       "min    13.000000\n",
       "25%    20.500000\n",
       "50%    25.000000\n",
       "75%    35.000000\n",
       "max    70.000000"
      ]
     },
     "execution_count": 7,
     "metadata": {},
     "output_type": "execute_result"
    }
   ],
   "source": [
    "# https://www.geeksforgeeks.org/interquartile-range-and-quartile-deviation-using-numpy-and-scipy/\n",
    "# https://stackoverflow.com/questions/42049147/convert-list-to-pandas-dataframe-column\n",
    "# Q1 is the lowest 25% of data, Q3 is the lowest 75% of data.\n",
    "# Pandas can calculate this for us\n",
    "import pandas as pd\n",
    "df = pd.DataFrame({'Age':Q2RawData})\n",
    "print (df)\n",
    "print(\"Q1 is:\", 20.5)\n",
    "print(\"Q3 is:\", 35.0)\n",
    "df.describe()"
   ]
  },
  {
   "cell_type": "markdown",
   "metadata": {},
   "source": [
    "## (e) Give the five-number summary of the data."
   ]
  },
  {
   "cell_type": "code",
   "execution_count": 8,
   "metadata": {},
   "outputs": [
    {
     "name": "stdout",
     "output_type": "stream",
     "text": [
      "Min is: 13\n",
      "Q1 is: 20.5\n",
      "Median is: 25.0\n",
      "Q3 is: 35.0\n",
      "Max is: 70\n"
     ]
    },
    {
     "data": {
      "text/html": [
       "<div>\n",
       "<style scoped>\n",
       "    .dataframe tbody tr th:only-of-type {\n",
       "        vertical-align: middle;\n",
       "    }\n",
       "\n",
       "    .dataframe tbody tr th {\n",
       "        vertical-align: top;\n",
       "    }\n",
       "\n",
       "    .dataframe thead th {\n",
       "        text-align: right;\n",
       "    }\n",
       "</style>\n",
       "<table border=\"1\" class=\"dataframe\">\n",
       "  <thead>\n",
       "    <tr style=\"text-align: right;\">\n",
       "      <th></th>\n",
       "      <th>Age</th>\n",
       "    </tr>\n",
       "  </thead>\n",
       "  <tbody>\n",
       "    <tr>\n",
       "      <th>count</th>\n",
       "      <td>27.000000</td>\n",
       "    </tr>\n",
       "    <tr>\n",
       "      <th>mean</th>\n",
       "      <td>29.962963</td>\n",
       "    </tr>\n",
       "    <tr>\n",
       "      <th>std</th>\n",
       "      <td>12.942124</td>\n",
       "    </tr>\n",
       "    <tr>\n",
       "      <th>min</th>\n",
       "      <td>13.000000</td>\n",
       "    </tr>\n",
       "    <tr>\n",
       "      <th>25%</th>\n",
       "      <td>20.500000</td>\n",
       "    </tr>\n",
       "    <tr>\n",
       "      <th>50%</th>\n",
       "      <td>25.000000</td>\n",
       "    </tr>\n",
       "    <tr>\n",
       "      <th>75%</th>\n",
       "      <td>35.000000</td>\n",
       "    </tr>\n",
       "    <tr>\n",
       "      <th>max</th>\n",
       "      <td>70.000000</td>\n",
       "    </tr>\n",
       "  </tbody>\n",
       "</table>\n",
       "</div>"
      ],
      "text/plain": [
       "             Age\n",
       "count  27.000000\n",
       "mean   29.962963\n",
       "std    12.942124\n",
       "min    13.000000\n",
       "25%    20.500000\n",
       "50%    25.000000\n",
       "75%    35.000000\n",
       "max    70.000000"
      ]
     },
     "execution_count": 8,
     "metadata": {},
     "output_type": "execute_result"
    }
   ],
   "source": [
    "# https://www.thoughtco.com/what-is-the-five-number-summary-3126237\n",
    "# The Five Number Summary is:\n",
    "#    Min, Q1, Median, Q3, Max\n",
    "# - We can re-use our dataframe and pandas's describe() method used in part d) to calculate some of this.\n",
    "median = np.median(Q2RawData)\n",
    "print(\"Min is:\", 13)\n",
    "print(\"Q1 is:\", 20.5)\n",
    "print(\"Median is:\", median)\n",
    "print(\"Q3 is:\", 35.0)\n",
    "print(\"Max is:\", 70)\n",
    "df.describe()"
   ]
  },
  {
   "cell_type": "markdown",
   "metadata": {},
   "source": [
    "## (f) Show a boxplot of the data."
   ]
  },
  {
   "cell_type": "code",
   "execution_count": 9,
   "metadata": {},
   "outputs": [
    {
     "data": {
      "image/png": "[encoded data removed]",
      "text/plain": [
       "<Figure size 432x288 with 1 Axes>"
      ]
     },
     "metadata": {
      "needs_background": "light"
     },
     "output_type": "display_data"
    }
   ],
   "source": [
    "# https://nickmccullum.com/python-visualization/boxplot/\n",
    "plt.title(\"boxplot of Age data\") \n",
    "df.boxplot()\n",
    "plt.show()\n",
    "#plt.boxplot(df)"
   ]
  },
  {
   "cell_type": "markdown",
   "metadata": {},
   "source": [
    "# (g) How is a quantile-quantile plot different from a quantile plot?"
   ]
  },
  {
   "cell_type": "markdown",
   "metadata": {},
   "source": [
    "\n",
    "    \n",
    "- A quantile-quantile plot (QQ-Plot), is also called a Normal Quantile Plot.\n",
    "    - The Normal Quantile Plot is created by comparing the quantiles of a Normal distribution with the quantiles of the data distribution.\n",
    "    - It can tell you if your data is **normally distributed** (and thus, if will show if it's skewed, and in which direction).\n",
    "- A Quantile plot (Q-Plot)\n",
    "    - This is just a graph of all of the quantiles of your data points.\n",
    "----\n",
    "\n",
    "- Sources:\n",
    "    - https://www.coursehero.com/file/p10cvg7b/g-How-is-a-quantile-quantile-plot-different-from-a-quantile-plot-A-quantile/\n",
    "    - https://www.youtube.com/watch?v=okjYjClSjOg\n",
    "    - https://www.youtube.com/watch?v=X9_ISJ0YpGw"
   ]
  },
  {
   "cell_type": "markdown",
   "metadata": {},
   "source": [
    "# Q3. Using the data for age given in question 2, answer the following: (10 points)"
   ]
  },
  {
   "cell_type": "markdown",
   "metadata": {},
   "source": [
    "## (a) Use min-max normalization to transform the value 35 for age onto the range [0:0; 1:0]. (3 points)"
   ]
  },
  {
   "cell_type": "code",
   "execution_count": 10,
   "metadata": {},
   "outputs": [
    {
     "name": "stdout",
     "output_type": "stream",
     "text": [
      "minMax for 35 is: 0.38596491228070173\n"
     ]
    }
   ],
   "source": [
    "# https://t4tutorials.com/min-max-normalization-of-data-in-data-mining/\n",
    "\n",
    "def calcMinMax(Value, Min, Max, NewMin, NewMax):\n",
    "    return ((Value-Min)/(Max-Min)*(NewMax-NewMin)+NewMin)\n",
    "\n",
    "# Vals: 13, 15, 16, 16, 19, 20, 20, 21, 22, 22, 25, 25, 25, 25, 30, 33, 33, 35, 35, 35, 35, 36, 40, 45, 46, 52, 70.\n",
    "Value = 35\n",
    "Min = 13\n",
    "Max = 70\n",
    "NewMin = 0\n",
    "NewMax = 1\n",
    "minMax = calcMinMax(Value, Min, Max, NewMin, NewMax)\n",
    "print(\"minMax for 35 is:\", minMax)"
   ]
  },
  {
   "cell_type": "markdown",
   "metadata": {},
   "source": [
    "## (b) Use z-score normalization to transform the value 35 for age, where the standard deviation of age is 12.94 years. (3 points)"
   ]
  },
  {
   "cell_type": "code",
   "execution_count": 11,
   "metadata": {},
   "outputs": [
    {
     "name": "stdout",
     "output_type": "stream",
     "text": [
      "z-score normalization of 35 is: 0.3892609737248842\n"
     ]
    }
   ],
   "source": [
    "# https://t4tutorials.com/z-score-normalization-data-mining/\n",
    "\n",
    "def calcZScore(val, mean, sd):\n",
    "    return (val-mean)/(sd)\n",
    "\n",
    "zScoreNorm = calcZScore(35, 29.962963, 12.94)\n",
    "print(\"z-score normalization of 35 is:\", zScoreNorm)"
   ]
  },
  {
   "cell_type": "markdown",
   "metadata": {},
   "source": [
    "## (c) Use normalization by decimal scaling to transform the value 35 for age. (3 points)"
   ]
  },
  {
   "cell_type": "code",
   "execution_count": 12,
   "metadata": {},
   "outputs": [
    {
     "name": "stdout",
     "output_type": "stream",
     "text": [
      "Decimal scaling transformation of 35 is: 0.35\n"
     ]
    }
   ],
   "source": [
    "# https://t4tutorials.com/decimal-scaling-normalization-in-data-mining/\n",
    "def decimalScaleAVal(val):\n",
    "    while (val > 1):\n",
    "        val = val/10\n",
    "    return val\n",
    "        \n",
    "decimalScale = decimalScaleAVal(35)\n",
    "\n",
    "print(\"Decimal scaling transformation of 35 is:\", decimalScale)\n"
   ]
  },
  {
   "cell_type": "markdown",
   "metadata": {},
   "source": [
    "## (d) Comment on which method you would prefer to use for the given data, giving reasons as to why. (1 point)"
   ]
  },
  {
   "cell_type": "markdown",
   "metadata": {},
   "source": [
    "- Outliers:\n",
    "    - Both decimal scaling and min-max normalization are not efficient at handling outliers.\n",
    "    - Z-score normalization is better for dealing with outliers.\n",
    "- Scaling:\n",
    "    - min-max normalization applies the same scale to every feature.\n",
    "    - decimal scaling does have some variation, as it can divide by various powers of 10.\n",
    "    - However, z-score normalization has a more varied normalization technique that is not as consistent, which is better.\n",
    "  ---  \n",
    "  \n",
    "- Overall, for the better handling of outliers, I would pick **Z-Score Normalization**\n",
    "    - In addition, we can tell this data set already has outliers by looking at the box plot, so Z-Score Normalization is a good fit here.\n",
    "\n",
    "----\n",
    "\n",
    "- Sources:\n",
    "    - https://t4tutorials.com/min-max-normalization-of-data-in-data-mining/"
   ]
  },
  {
   "cell_type": "markdown",
   "metadata": {},
   "source": [
    "# ---------------------------------------------------\n",
    "# ---------------------------------------------------"
   ]
  },
  {
   "cell_type": "markdown",
   "metadata": {},
   "source": [
    "# PART 2: ID3 DECISION TREE\n",
    "\n",
    "---\n",
    "- ### Completed up to Part C\n",
    "- ### (In Progress...: Have Entropy and Information gain completed. Tree not done yet)\n",
    "---"
   ]
  },
  {
   "cell_type": "code",
   "execution_count": 13,
   "metadata": {},
   "outputs": [],
   "source": [
    "# Imports\n",
    "import numpy as np\n",
    "import matplotlib.pyplot as plt\n",
    "from sklearn.model_selection import train_test_split\n",
    "import pandas as pd\n",
    "# This line tells the notebook to show plots inside of the notebook\n",
    "%matplotlib inline\n",
    "import matplotlib.pyplot as plt\n",
    "import seaborn as sb"
   ]
  },
  {
   "cell_type": "markdown",
   "metadata": {},
   "source": [
    "# -------------------------------------\n",
    "## (a) read the inputs train and test ( you can assume two csv files with corresponding names) in the input directory. (5 points)\n",
    "- ### This comes later, as I am cleaning the data first, then creating the training and test data sets.\n",
    "- ### So I am doing b) first, then a)"
   ]
  },
  {
   "attachments": {
    "f2f943b4-cab2-4b36-aadd-c090f902332e.png": {
     "image/png": "[encoded data removed]"
    }
   },
   "cell_type": "markdown",
   "metadata": {},
   "source": [
    "# --------------------------------------\n",
    "## (b) convert any continuous features into binary features or categorical features by thresholding. That is why we did the warm-up above so reuse that code if you need to. (10 points)![image.png](attachment:f2f943b4-cab2-4b36-aadd-c090f902332e.png)"
   ]
  },
  {
   "cell_type": "code",
   "execution_count": 14,
   "metadata": {},
   "outputs": [
    {
     "data": {
      "text/html": [
       "<div>\n",
       "<style scoped>\n",
       "    .dataframe tbody tr th:only-of-type {\n",
       "        vertical-align: middle;\n",
       "    }\n",
       "\n",
       "    .dataframe tbody tr th {\n",
       "        vertical-align: top;\n",
       "    }\n",
       "\n",
       "    .dataframe thead th {\n",
       "        text-align: right;\n",
       "    }\n",
       "</style>\n",
       "<table border=\"1\" class=\"dataframe\">\n",
       "  <thead>\n",
       "    <tr style=\"text-align: right;\">\n",
       "      <th></th>\n",
       "      <th>PassengerId</th>\n",
       "      <th>Survived</th>\n",
       "      <th>Pclass</th>\n",
       "      <th>Name</th>\n",
       "      <th>Sex</th>\n",
       "      <th>Age</th>\n",
       "      <th>SibSp</th>\n",
       "      <th>Parch</th>\n",
       "      <th>Ticket</th>\n",
       "      <th>Fare</th>\n",
       "      <th>Cabin</th>\n",
       "      <th>Embarked</th>\n",
       "    </tr>\n",
       "  </thead>\n",
       "  <tbody>\n",
       "    <tr>\n",
       "      <th>0</th>\n",
       "      <td>1</td>\n",
       "      <td>0</td>\n",
       "      <td>3</td>\n",
       "      <td>Braund, Mr. Owen Harris</td>\n",
       "      <td>male</td>\n",
       "      <td>22.0</td>\n",
       "      <td>1</td>\n",
       "      <td>0</td>\n",
       "      <td>A/5 21171</td>\n",
       "      <td>7.2500</td>\n",
       "      <td>NaN</td>\n",
       "      <td>S</td>\n",
       "    </tr>\n",
       "    <tr>\n",
       "      <th>1</th>\n",
       "      <td>2</td>\n",
       "      <td>1</td>\n",
       "      <td>1</td>\n",
       "      <td>Cumings, Mrs. John Bradley (Florence Briggs Th...</td>\n",
       "      <td>female</td>\n",
       "      <td>38.0</td>\n",
       "      <td>1</td>\n",
       "      <td>0</td>\n",
       "      <td>PC 17599</td>\n",
       "      <td>71.2833</td>\n",
       "      <td>C85</td>\n",
       "      <td>C</td>\n",
       "    </tr>\n",
       "    <tr>\n",
       "      <th>2</th>\n",
       "      <td>3</td>\n",
       "      <td>1</td>\n",
       "      <td>3</td>\n",
       "      <td>Heikkinen, Miss. Laina</td>\n",
       "      <td>female</td>\n",
       "      <td>26.0</td>\n",
       "      <td>0</td>\n",
       "      <td>0</td>\n",
       "      <td>STON/O2. 3101282</td>\n",
       "      <td>7.9250</td>\n",
       "      <td>NaN</td>\n",
       "      <td>S</td>\n",
       "    </tr>\n",
       "    <tr>\n",
       "      <th>3</th>\n",
       "      <td>4</td>\n",
       "      <td>1</td>\n",
       "      <td>1</td>\n",
       "      <td>Futrelle, Mrs. Jacques Heath (Lily May Peel)</td>\n",
       "      <td>female</td>\n",
       "      <td>35.0</td>\n",
       "      <td>1</td>\n",
       "      <td>0</td>\n",
       "      <td>113803</td>\n",
       "      <td>53.1000</td>\n",
       "      <td>C123</td>\n",
       "      <td>S</td>\n",
       "    </tr>\n",
       "    <tr>\n",
       "      <th>4</th>\n",
       "      <td>5</td>\n",
       "      <td>0</td>\n",
       "      <td>3</td>\n",
       "      <td>Allen, Mr. William Henry</td>\n",
       "      <td>male</td>\n",
       "      <td>35.0</td>\n",
       "      <td>0</td>\n",
       "      <td>0</td>\n",
       "      <td>373450</td>\n",
       "      <td>8.0500</td>\n",
       "      <td>NaN</td>\n",
       "      <td>S</td>\n",
       "    </tr>\n",
       "  </tbody>\n",
       "</table>\n",
       "</div>"
      ],
      "text/plain": [
       "   PassengerId  Survived  Pclass  \\\n",
       "0            1         0       3   \n",
       "1            2         1       1   \n",
       "2            3         1       3   \n",
       "3            4         1       1   \n",
       "4            5         0       3   \n",
       "\n",
       "                                                Name     Sex   Age  SibSp  \\\n",
       "0                            Braund, Mr. Owen Harris    male  22.0      1   \n",
       "1  Cumings, Mrs. John Bradley (Florence Briggs Th...  female  38.0      1   \n",
       "2                             Heikkinen, Miss. Laina  female  26.0      0   \n",
       "3       Futrelle, Mrs. Jacques Heath (Lily May Peel)  female  35.0      1   \n",
       "4                           Allen, Mr. William Henry    male  35.0      0   \n",
       "\n",
       "   Parch            Ticket     Fare Cabin Embarked  \n",
       "0      0         A/5 21171   7.2500   NaN        S  \n",
       "1      0          PC 17599  71.2833   C85        C  \n",
       "2      0  STON/O2. 3101282   7.9250   NaN        S  \n",
       "3      0            113803  53.1000  C123        S  \n",
       "4      0            373450   8.0500   NaN        S  "
      ]
     },
     "execution_count": 14,
     "metadata": {},
     "output_type": "execute_result"
    }
   ],
   "source": [
    "# Import DataSet\n",
    "titanic_data = pd.read_csv('titanic.csv', na_values=['NA'])\n",
    "titanic_data.head()"
   ]
  },
  {
   "cell_type": "markdown",
   "metadata": {},
   "source": [
    "- I've determined that the following columns don't matter much, and I will drop them"
   ]
  },
  {
   "cell_type": "markdown",
   "metadata": {},
   "source": [
    "### Determine the number of null values in each column\n",
    "- This will help me determine which columns just have bad data, and I should consider just dropping instead of trying to impute a bunch of values"
   ]
  },
  {
   "cell_type": "code",
   "execution_count": 15,
   "metadata": {},
   "outputs": [
    {
     "name": "stdout",
     "output_type": "stream",
     "text": [
      "column: PassengerId has 0 null values\n",
      "column: Survived has 0 null values\n",
      "column: Pclass has 0 null values\n",
      "column: Name has 0 null values\n",
      "column: Sex has 0 null values\n",
      "column: Age has 177 null values\n",
      "column: SibSp has 0 null values\n",
      "column: Parch has 0 null values\n",
      "column: Ticket has 0 null values\n",
      "column: Fare has 0 null values\n",
      "column: Cabin has 687 null values\n",
      "column: Embarked has 2 null values\n"
     ]
    }
   ],
   "source": [
    "def calcNullsForEachColumn(df):\n",
    "    for column in df:\n",
    "        nullCount = df[column].isnull().sum()\n",
    "        print (\"column:\", column, \"has\", nullCount, \"null values\")\n",
    "calcNullsForEachColumn(titanic_data)"
   ]
  },
  {
   "cell_type": "markdown",
   "metadata": {},
   "source": [
    "#### Let's drop some columns that have bad data...\n",
    "- Because Cabin has 687 null values, and it likely doesn't even matter, I'm just going to drop it.\n",
    "- Also because Embarked has 2 values, and likely doesn't matter, I'm just going to drop that column as well."
   ]
  },
  {
   "cell_type": "code",
   "execution_count": 16,
   "metadata": {},
   "outputs": [
    {
     "name": "stdout",
     "output_type": "stream",
     "text": [
      "     PassengerId  Survived  Pclass  \\\n",
      "0              1         0       3   \n",
      "1              2         1       1   \n",
      "2              3         1       3   \n",
      "3              4         1       1   \n",
      "4              5         0       3   \n",
      "..           ...       ...     ...   \n",
      "886          887         0       2   \n",
      "887          888         1       1   \n",
      "888          889         0       3   \n",
      "889          890         1       1   \n",
      "890          891         0       3   \n",
      "\n",
      "                                                  Name     Sex   Age  SibSp  \\\n",
      "0                              Braund, Mr. Owen Harris    male  22.0      1   \n",
      "1    Cumings, Mrs. John Bradley (Florence Briggs Th...  female  38.0      1   \n",
      "2                               Heikkinen, Miss. Laina  female  26.0      0   \n",
      "3         Futrelle, Mrs. Jacques Heath (Lily May Peel)  female  35.0      1   \n",
      "4                             Allen, Mr. William Henry    male  35.0      0   \n",
      "..                                                 ...     ...   ...    ...   \n",
      "886                              Montvila, Rev. Juozas    male  27.0      0   \n",
      "887                       Graham, Miss. Margaret Edith  female  19.0      0   \n",
      "888           Johnston, Miss. Catherine Helen \"Carrie\"  female   NaN      1   \n",
      "889                              Behr, Mr. Karl Howell    male  26.0      0   \n",
      "890                                Dooley, Mr. Patrick    male  32.0      0   \n",
      "\n",
      "     Parch            Ticket     Fare  \n",
      "0        0         A/5 21171   7.2500  \n",
      "1        0          PC 17599  71.2833  \n",
      "2        0  STON/O2. 3101282   7.9250  \n",
      "3        0            113803  53.1000  \n",
      "4        0            373450   8.0500  \n",
      "..     ...               ...      ...  \n",
      "886      0            211536  13.0000  \n",
      "887      0            112053  30.0000  \n",
      "888      2        W./C. 6607  23.4500  \n",
      "889      0            111369  30.0000  \n",
      "890      0            370376   7.7500  \n",
      "\n",
      "[891 rows x 10 columns]\n"
     ]
    }
   ],
   "source": [
    "titanic_data_minimized = titanic_data.drop(['Cabin', 'Embarked'], axis = 1)\n",
    "print (titanic_data_minimized)"
   ]
  },
  {
   "cell_type": "markdown",
   "metadata": {},
   "source": [
    "#### Let's drop some columns that are useless...\n",
    "- PassengerID does not matter at all\n",
    "- Ticket Number likely does not matter either\n",
    "- Name does not matter"
   ]
  },
  {
   "cell_type": "code",
   "execution_count": 17,
   "metadata": {},
   "outputs": [
    {
     "name": "stdout",
     "output_type": "stream",
     "text": [
      "     Survived  Pclass     Sex   Age  SibSp  Parch     Fare\n",
      "0           0       3    male  22.0      1      0   7.2500\n",
      "1           1       1  female  38.0      1      0  71.2833\n",
      "2           1       3  female  26.0      0      0   7.9250\n",
      "3           1       1  female  35.0      1      0  53.1000\n",
      "4           0       3    male  35.0      0      0   8.0500\n",
      "..        ...     ...     ...   ...    ...    ...      ...\n",
      "886         0       2    male  27.0      0      0  13.0000\n",
      "887         1       1  female  19.0      0      0  30.0000\n",
      "888         0       3  female   NaN      1      2  23.4500\n",
      "889         1       1    male  26.0      0      0  30.0000\n",
      "890         0       3    male  32.0      0      0   7.7500\n",
      "\n",
      "[891 rows x 7 columns]\n"
     ]
    }
   ],
   "source": [
    "titanic_data_minimized = titanic_data_minimized.drop(['PassengerId', 'Ticket', 'Name'], axis = 1)\n",
    "print (titanic_data_minimized)"
   ]
  },
  {
   "cell_type": "markdown",
   "metadata": {},
   "source": [
    "## - Deal with NULLs in AGE column\n",
    "- I could drop all rows that have a NULL Age for now.\n",
    "    - **However, this could likely be imputed, and likely should be to retain a fair amount**\n",
    "    - **So this is NOT recommended**\n",
    "- Imputation\n",
    "    - From this link https://jamesrledoux.com/code/imputation, it is recommended to use mean or median for imputing these numeric values, that should not be non-zero.\n",
    "    - In addition, it recommends to impute using median over mean if outliers are present.\n",
    "        - So let's find out if outliers are present or not in the Age column."
   ]
  },
  {
   "cell_type": "code",
   "execution_count": 18,
   "metadata": {},
   "outputs": [
    {
     "name": "stdout",
     "output_type": "stream",
     "text": [
      "Outliers in Age: 11\n"
     ]
    }
   ],
   "source": [
    "def calcNumOutliers(df):\n",
    "    numpyArray = df.dropna().values # convert Pandas DataFrame to Numpy Array, and drop NULLs.\n",
    "    sorted(numpyArray) # Sort it\n",
    "    q1, q3= np.percentile(numpyArray,[25,75])\n",
    "    iqr = q3 - q1\n",
    "    lower_bound = q1 -(1.5 * iqr) \n",
    "    upper_bound = q3 +(1.5 * iqr)\n",
    "    # count outliers under lower_bound or above upper_bound\n",
    "    numOutliers = ((lower_bound > numpyArray) | (numpyArray > upper_bound)).sum() \n",
    "    return numOutliers\n",
    "\n",
    "print(\"Outliers in Age:\", calcNumOutliers(titanic_data_minimized[\"Age\"]))"
   ]
  },
  {
   "cell_type": "markdown",
   "metadata": {},
   "source": [
    "- So we can see here, that there are 11 outliers in Age, so I will use Median for the imputing."
   ]
  },
  {
   "cell_type": "code",
   "execution_count": 19,
   "metadata": {},
   "outputs": [],
   "source": [
    "medianAge = titanic_data_minimized[\"Age\"].dropna().median()\n",
    "titanic_data_minimized_Age_median_imputed = titanic_data_minimized.fillna(medianAge)"
   ]
  },
  {
   "cell_type": "code",
   "execution_count": 20,
   "metadata": {},
   "outputs": [
    {
     "name": "stdout",
     "output_type": "stream",
     "text": [
      "column: Survived has 0 null values\n",
      "column: Pclass has 0 null values\n",
      "column: Sex has 0 null values\n",
      "column: Age has 0 null values\n",
      "column: SibSp has 0 null values\n",
      "column: Parch has 0 null values\n",
      "column: Fare has 0 null values\n",
      "891 rows\n"
     ]
    }
   ],
   "source": [
    "calcNullsForEachColumn(titanic_data_minimized_Age_median_imputed) \n",
    "print(len(titanic_data_minimized_Age_median_imputed), \"rows\")"
   ]
  },
  {
   "cell_type": "code",
   "execution_count": 21,
   "metadata": {},
   "outputs": [
    {
     "data": {
      "text/html": [
       "<div>\n",
       "<style scoped>\n",
       "    .dataframe tbody tr th:only-of-type {\n",
       "        vertical-align: middle;\n",
       "    }\n",
       "\n",
       "    .dataframe tbody tr th {\n",
       "        vertical-align: top;\n",
       "    }\n",
       "\n",
       "    .dataframe thead th {\n",
       "        text-align: right;\n",
       "    }\n",
       "</style>\n",
       "<table border=\"1\" class=\"dataframe\">\n",
       "  <thead>\n",
       "    <tr style=\"text-align: right;\">\n",
       "      <th></th>\n",
       "      <th>Survived</th>\n",
       "      <th>Pclass</th>\n",
       "      <th>Sex</th>\n",
       "      <th>Age</th>\n",
       "      <th>SibSp</th>\n",
       "      <th>Parch</th>\n",
       "      <th>Fare</th>\n",
       "    </tr>\n",
       "  </thead>\n",
       "  <tbody>\n",
       "    <tr>\n",
       "      <th>0</th>\n",
       "      <td>0</td>\n",
       "      <td>3</td>\n",
       "      <td>male</td>\n",
       "      <td>22.0</td>\n",
       "      <td>1</td>\n",
       "      <td>0</td>\n",
       "      <td>7.2500</td>\n",
       "    </tr>\n",
       "    <tr>\n",
       "      <th>1</th>\n",
       "      <td>1</td>\n",
       "      <td>1</td>\n",
       "      <td>female</td>\n",
       "      <td>38.0</td>\n",
       "      <td>1</td>\n",
       "      <td>0</td>\n",
       "      <td>71.2833</td>\n",
       "    </tr>\n",
       "    <tr>\n",
       "      <th>2</th>\n",
       "      <td>1</td>\n",
       "      <td>3</td>\n",
       "      <td>female</td>\n",
       "      <td>26.0</td>\n",
       "      <td>0</td>\n",
       "      <td>0</td>\n",
       "      <td>7.9250</td>\n",
       "    </tr>\n",
       "    <tr>\n",
       "      <th>3</th>\n",
       "      <td>1</td>\n",
       "      <td>1</td>\n",
       "      <td>female</td>\n",
       "      <td>35.0</td>\n",
       "      <td>1</td>\n",
       "      <td>0</td>\n",
       "      <td>53.1000</td>\n",
       "    </tr>\n",
       "    <tr>\n",
       "      <th>4</th>\n",
       "      <td>0</td>\n",
       "      <td>3</td>\n",
       "      <td>male</td>\n",
       "      <td>35.0</td>\n",
       "      <td>0</td>\n",
       "      <td>0</td>\n",
       "      <td>8.0500</td>\n",
       "    </tr>\n",
       "  </tbody>\n",
       "</table>\n",
       "</div>"
      ],
      "text/plain": [
       "   Survived  Pclass     Sex   Age  SibSp  Parch     Fare\n",
       "0         0       3    male  22.0      1      0   7.2500\n",
       "1         1       1  female  38.0      1      0  71.2833\n",
       "2         1       3  female  26.0      0      0   7.9250\n",
       "3         1       1  female  35.0      1      0  53.1000\n",
       "4         0       3    male  35.0      0      0   8.0500"
      ]
     },
     "execution_count": 21,
     "metadata": {},
     "output_type": "execute_result"
    }
   ],
   "source": [
    "titanic_data_minimized_Age_median_imputed.head()"
   ]
  },
  {
   "cell_type": "markdown",
   "metadata": {},
   "source": [
    "# - So we can see we now have 891 rows of data, with no null values."
   ]
  },
  {
   "cell_type": "code",
   "execution_count": 22,
   "metadata": {},
   "outputs": [],
   "source": [
    "titanic_disc = titanic_data_minimized_Age_median_imputed\n",
    "titanic_disc.to_csv('titanic_Testing1.csv', index=False)"
   ]
  },
  {
   "cell_type": "code",
   "execution_count": 23,
   "metadata": {},
   "outputs": [],
   "source": [
    "# < 3: Toddler-Baby\n",
    "# < 18: Child\n",
    "# < 65: Adult\n",
    "# >= 65: Elderly\n",
    "titanic_disc = titanic_data_minimized_Age_median_imputed\n",
    "titanic_disc['Age'] = pd.cut(titanic_disc.Age, bins=[0,3,18,65,np.inf], labels=[1,2,3,4])\n",
    "# low < 20\n",
    "# medium < 50\n",
    "# high > 50\n",
    "titanic_disc['Fare'] = pd.cut(titanic_disc.Fare, bins=[-1,20,50,np.inf], labels=[1,2,3])"
   ]
  },
  {
   "cell_type": "code",
   "execution_count": 24,
   "metadata": {},
   "outputs": [
    {
     "name": "stdout",
     "output_type": "stream",
     "text": [
      "     Survived  Pclass Age  SibSp  Parch Fare  Sex\n",
      "0           0       3   3      1      0    1    1\n",
      "1           1       1   3      1      0    3    2\n",
      "2           1       3   3      0      0    1    2\n",
      "3           1       1   3      1      0    3    2\n",
      "4           0       3   3      0      0    1    1\n",
      "..        ...     ...  ..    ...    ...  ...  ...\n",
      "886         0       2   3      0      0    1    1\n",
      "887         1       1   3      0      0    2    2\n",
      "888         0       3   3      1      2    2    2\n",
      "889         1       1   3      0      0    2    1\n",
      "890         0       3   3      0      0    1    1\n",
      "\n",
      "[891 rows x 7 columns]\n"
     ]
    }
   ],
   "source": [
    "# Convert Continuous Age to Discrete\n",
    "# https://www.dataquest.io/blog/tutorial-add-column-pandas-dataframe-based-on-if-else-condition/\n",
    "\n",
    "# 1 = Male\n",
    "# 2 = Female\n",
    "\n",
    "conditions = [\n",
    "    (titanic_disc['Sex'] == 'male'),\n",
    "    (titanic_disc['Sex'] == 'female') \n",
    "    ]\n",
    "\n",
    "# create a list of the values we want to assign for each condition\n",
    "values = [1, 2]\n",
    "\n",
    "# add a new column \"ageStr\" which has discrete valued ages.\n",
    "titanic_disc['SexNum'] = np.select(conditions, values)\n",
    "\n",
    "# Delete old continues-valued Age column\n",
    "del titanic_disc['Sex']\n",
    "\n",
    "# rename \"ageStr\" column to \"Age\"\n",
    "titanic_disc.rename(columns = {'SexNum':'Sex'}, inplace = True) \n",
    "print(titanic_disc)"
   ]
  },
  {
   "cell_type": "code",
   "execution_count": 25,
   "metadata": {},
   "outputs": [],
   "source": [
    "# Testing\n",
    "titanic_disc.to_csv('titanic_Testing2.csv', index=False)"
   ]
  },
  {
   "cell_type": "markdown",
   "metadata": {},
   "source": [
    "## Split data into Testing (80%) and Training Set (20%) "
   ]
  },
  {
   "cell_type": "markdown",
   "metadata": {},
   "source": [
    "## (a) read the inputs train and test ( you can assume two csv files with corresponding names) in the input directory. (5 points)"
   ]
  },
  {
   "cell_type": "code",
   "execution_count": 26,
   "metadata": {},
   "outputs": [
    {
     "name": "stdout",
     "output_type": "stream",
     "text": [
      "     Survived  Pclass  Age  SibSp  Parch  Fare  Sex\n",
      "0           0       3    3      1      0     1    1\n",
      "1           1       1    3      1      0     3    2\n",
      "2           1       3    3      0      0     1    2\n",
      "3           1       1    3      1      0     3    2\n",
      "4           0       3    3      0      0     1    1\n",
      "..        ...     ...  ...    ...    ...   ...  ...\n",
      "886         0       2    3      0      0     1    1\n",
      "887         1       1    3      0      0     2    2\n",
      "888         0       3    3      1      2     2    2\n",
      "889         1       1    3      0      0     2    1\n",
      "890         0       3    3      0      0     1    1\n",
      "\n",
      "[891 rows x 7 columns]\n"
     ]
    }
   ],
   "source": [
    "# export processed and cleaned Data to CSV, and reload\n",
    "\n",
    "titanic_disc.to_csv('titanic_data_clean.csv', index=False)\n",
    "titanic_data_clean = pd.read_csv('titanic_data_clean.csv')\n",
    "print(titanic_data_clean)"
   ]
  },
  {
   "cell_type": "code",
   "execution_count": 27,
   "metadata": {},
   "outputs": [
    {
     "name": "stdout",
     "output_type": "stream",
     "text": [
      "\n",
      "X_train:\n",
      "\n",
      "     Pclass  Age  SibSp  Parch  Fare  Sex\n",
      "192       3    3      1      0     1    2\n",
      "286       3    3      0      0     1    1\n",
      "857       1    3      0      0     2    1\n",
      "258       1    3      0      0     3    2\n",
      "388       3    3      0      0     1    1\n",
      "(712, 6)\n",
      "\n",
      "_train:\n",
      "\n",
      "192    1\n",
      "286    1\n",
      "857    1\n",
      "258    1\n",
      "388    0\n",
      "Name: Survived, dtype: int64\n",
      "(712,)\n",
      "\n",
      "X_test:\n",
      "\n",
      "     Pclass  Age  SibSp  Parch  Fare  Sex\n",
      "703       3    3      0      0     1    1\n",
      "241       3    3      1      0     1    2\n",
      "560       3    3      0      0     1    1\n",
      "661       3    3      0      0     1    1\n",
      "721       3    2      1      0     1    1\n",
      "(179, 6)\n"
     ]
    }
   ],
   "source": [
    "# https://medium.com/themlblog/splitting-csv-into-train-and-test-data-1407a063dd74\n",
    "\n",
    "# label (data we want to predict)\n",
    "y = titanic_data_clean.Survived\n",
    "# features (data which is used to preduct)\n",
    "X = titanic_data_clean.drop('Survived', axis=1)\n",
    "\n",
    "X_train, X_test, y_train, y_test = train_test_split(X, y,test_size=0.2)\n",
    "print(\"\\nX_train:\\n\")\n",
    "print(X_train.head())\n",
    "print(X_train.shape)\n",
    "\n",
    "print(\"\\n_train:\\n\")\n",
    "print(y_train.head())\n",
    "print(y_train.shape)\n",
    "\n",
    "print(\"\\nX_test:\\n\")\n",
    "print(X_test.head())\n",
    "print(X_test.shape)"
   ]
  },
  {
   "cell_type": "code",
   "execution_count": 28,
   "metadata": {},
   "outputs": [
    {
     "name": "stdout",
     "output_type": "stream",
     "text": [
      "192 286 857 258 388 127 697 88 333 255 782 307 382 517 54 471 462 673 64 786 553 809 293 279 13 405 110 616 613 694 830 348 586 102 773 184 277 507 145 240 284 16 578 807 1 58 732 411 165 714 717 640 84 750 655 420 589 394 428 863 105 791 459 400 177 419 605 882 838 57 730 324 399 444 89 760 796 124 785 147 688 463 756 424 514 855 372 305 540 334 313 272 854 744 874 868 253 680 457 380 825 731 429 204 753 115 476 448 264 125 392 236 354 33 85 180 541 242 440 654 367 72 844 708 181 780 133 720 30 456 157 824 40 118 423 48 542 831 135 478 674 329 715 845 846 409 107 519 841 800 665 94 325 278 390 564 235 142 617 160 696 799 167 701 228 811 558 364 821 775 224 232 466 538 681 712 464 606 587 308 547 162 549 840 381 340 318 130 46 2 356 886 737 864 814 76 23 556 585 812 175 494 591 66 889 449 718 274 645 123 790 415 378 871 491 709 10 450 171 692 351 451 12 297 182 93 637 873 789 752 827 498 341 704 398 643 174 869 632 310 472 725 572 582 479 319 805 189 470 532 652 823 757 621 512 393 243 166 252 190 601 635 528 226 888 634 441 656 7 595 158 442 813 839 707 788 808 371 747 9 326 619 501 134 829 636 584 421 705 140 223 437 27 18 210 676 67 743 765 290 90 755 426 353 468 506 485 137 499 563 612 659 216 201 473 355 453 249 817 834 820 555 113 335 832 347 877 322 880 233 75 131 484 822 412 474 454 141 465 185 525 493 208 384 771 583 835 316 651 80 14 884 862 256 710 195 711 112 289 530 596 315 266 482 196 338 295 588 599 51 254 213 98 685 890 573 92 597 870 21 533 99 695 169 246 194 497 502 475 11 96 639 24 238 666 430 38 746 362 510 682 748 620 698 391 505 74 742 149 879 95 513 343 467 361 702 690 15 716 594 740 803 82 776 104 699 781 404 598 280 312 68 611 852 477 148 736 273 438 508 143 576 385 4 729 373 539 146 445 116 851 604 602 101 557 359 376 270 126 662 575 262 455 387 298 337 885 221 551 671 128 291 32 856 225 251 63 259 314 764 728 687 490 215 561 368 631 460 86 726 802 320 425 230 265 577 281 153 8 370 590 500 28 344 231 349 647 397 626 675 36 521 480 524 819 91 170 593 245 150 410 395 629 49 164 276 520 42 108 300 360 713 178 461 138 365 198 59 191 614 550 642 545 22 5 234 784 261 237 418 65 117 79 346 664 522 733 559 239 779 783 339 858 377 677 403 650 458 294 759 87 565 330 875 209 0 548 531 220 798 657 407 624 25 422 683 186 154 427 328 69 810 358 719 724 734 217 625 352 570 648 345 609 183 287 876 332 574 727 766 679 323 571 618 581 860 283 723 630 669 61 260 772 486 200 767 850 562 769 20 81 569 350 159 579 667 526 29 741 660 607 132 296 554 515 866 222 282 83 686 219 408 248 197 826 120 3 302 672 848 168 865 37 389 26 413 6 152 763 414 849 628 689 859 212 111 527 761 19 568 327 317 227 566 439 306 872 837 247 336 357 804 268 39 603 793 806 546 878 622 119 633 778 369 600 47 638 207 50 818 383 751 "
     ]
    }
   ],
   "source": [
    "#result = y_train.iloc[[642],[0]]\n",
    "for row in X_train.index: \n",
    "    print(row, end= \" \") "
   ]
  },
  {
   "cell_type": "markdown",
   "metadata": {},
   "source": [
    "# Unfortunately, I built my tree and it's associated helper functions with the X_test and y_test combined, which is not how scikit-learn splits it\n",
    "- So just to get this working, I'm just going to drop the first 20% rows for my XY_test, and store the first 20% rows for my XY_test.\n",
    "- This is **NOT A GOOD WAY TO DO THINGS**, and not a good way to split test and train."
   ]
  },
  {
   "cell_type": "code",
   "execution_count": 29,
   "metadata": {},
   "outputs": [
    {
     "name": "stdout",
     "output_type": "stream",
     "text": [
      "     Survived  Pclass  Age  SibSp  Parch  Fare  Sex\n",
      "178         0       2    3      0      0     1    1\n",
      "179         0       3    3      0      0     1    1\n",
      "180         0       3    3      8      2     3    2\n",
      "181         0       2    3      0      0     1    1\n",
      "182         0       3    2      4      2     2    1\n",
      "..        ...     ...  ...    ...    ...   ...  ...\n",
      "886         0       2    3      0      0     1    1\n",
      "887         1       1    3      0      0     2    2\n",
      "888         0       3    3      1      2     2    2\n",
      "889         1       1    3      0      0     2    1\n",
      "890         0       3    3      0      0     1    1\n",
      "\n",
      "[713 rows x 7 columns]\n",
      "     Survived  Pclass  Age  SibSp  Parch  Fare  Sex\n",
      "0           0       3    3      1      0     1    1\n",
      "1           1       1    3      1      0     3    2\n",
      "2           1       3    3      0      0     1    2\n",
      "3           1       1    3      1      0     3    2\n",
      "4           0       3    3      0      0     1    1\n",
      "..        ...     ...  ...    ...    ...   ...  ...\n",
      "173         0       3    3      0      0     1    1\n",
      "174         0       1    3      0      0     2    1\n",
      "175         0       3    2      1      1     1    1\n",
      "176         0       3    3      3      1     2    1\n",
      "177         0       1    3      0      0     2    2\n",
      "\n",
      "[178 rows x 7 columns]\n"
     ]
    }
   ],
   "source": [
    "# Since I built my decision tree to accept a dataframe that correlates to X_train and y_train, I need to merge these two outputs into one\n",
    "\n",
    "num_rows = len(titanic_data_clean)\n",
    "\n",
    "start_20_percent_in = int(round(0.20 * num_rows)) \n",
    "\n",
    "get_rid_of_80_percent_from_rear = int(round(0.80 * num_rows)) \n",
    "\n",
    "XY_ID3_train = titanic_data_clean[start_20_percent_in:]\n",
    "\n",
    "print(XY_ID3_train)\n",
    "\n",
    "XY_ID3_test = titanic_data_clean[:-get_rid_of_80_percent_from_rear]\n",
    "\n",
    "print(XY_ID3_test)"
   ]
  },
  {
   "cell_type": "code",
   "execution_count": 30,
   "metadata": {},
   "outputs": [
    {
     "name": "stdout",
     "output_type": "stream",
     "text": [
      "192    1\n",
      "286    1\n",
      "857    1\n",
      "258    1\n",
      "388    0\n",
      "      ..\n",
      "207    1\n",
      "50     0\n",
      "818    0\n",
      "383    1\n",
      "751    1\n",
      "Name: Survived, Length: 712, dtype: int64\n"
     ]
    }
   ],
   "source": [
    "print(y_train)"
   ]
  },
  {
   "cell_type": "markdown",
   "metadata": {},
   "source": [
    "# ---------------------------------------\n",
    "## (c) Build trees of a depth maximum specified as part of invoking the tree building function. A user should be able to specify the max depth. (35 points)"
   ]
  },
  {
   "cell_type": "code",
   "execution_count": 31,
   "metadata": {},
   "outputs": [],
   "source": [
    "import collections\n",
    "import sys\n",
    "from graphviz import Digraph\n",
    "\n",
    "class ID3:\n",
    "    __root = None\n",
    "    ## Private Variables\n",
    "    __classification_column = None\n",
    "    __positive_class = None\n",
    "    __negative_class = None\n",
    "\n",
    "    # Constructor\n",
    "    def __init__(self, classification_column, positive_class, negative_class):\n",
    "        self.__classification_column = classification_column\n",
    "        self.__positive_class = positive_class\n",
    "        self.__negative_class = negative_class\n",
    "        pass\n",
    "\n",
    "    # -------------------------------\n",
    "    # -------------------------------\n",
    "    # -------------------------------\n",
    "    # Higher Level Functions\n",
    "    # -------------------------------\n",
    "    # -------------------------------\n",
    "    # -------------------------------\n",
    "\n",
    "    # Return best splitting feature as tuple (String, informationGain)\n",
    "    def detetrmine_best_splitting_feature (self, df):\n",
    "            informationGainDict = self.calculate_entropy_of_each_feature(df)\n",
    "            return self.select_highest_information_gain(informationGainDict)\n",
    "\n",
    "    # -------------------------------\n",
    "    # -------------------------------\n",
    "    # -------------------------------\n",
    "    \n",
    "    # xxxxxxxxxxxxxxxxxxxxxxxxxxxxxxx\n",
    "    \n",
    "    # -------------------------------\n",
    "    # -------------------------------\n",
    "    # -------------------------------\n",
    "    # MAIN CALCULATIONS FOR ID3 ALGORITHM\n",
    "    # -------------------------------\n",
    "    # -------------------------------\n",
    "    # -------------------------------\n",
    "   \n",
    "    \n",
    "    # Step 1: Calculate entropy of the dataset itself\n",
    "    # - It just uses the positive and negative values, and the size of values.\n",
    "    # https://stackoverflow.com/questions/36067894/pandas-get-count-of-a-single-value-in-a-column-of-a-dataframe\n",
    "    # -p/(p+n)log_2(p/(p+n)) -n/(p+n)log_2(n/(p+n))\n",
    "    def calculate_entropy_of_dataset(self, df):\n",
    "        p = self.get_num_unique_val_in_column(df, self.__classification_column, self.__positive_class)  # get # of positive class (Survived = 1)\n",
    "        n = self.get_num_unique_val_in_column(df, self.__classification_column, self.__negative_class)  # get # of negative class (Survived = 0)\n",
    "        if p == 0 or n == 0:  # Entropy will be 0, so return 0 \n",
    "            return 0\n",
    "        pFrac = (p) / (p + n)\n",
    "        nFrac = (n) / (p + n)\n",
    "        pVal = -1 * pFrac * np.log2(pFrac)\n",
    "        nVal = -1 * nFrac * np.log2(nFrac)\n",
    "        entropy = pVal + nVal\n",
    "        return entropy\n",
    "\n",
    "      # Traverse columns\n",
    "    # Select Attributes\n",
    "    # Computed InformationGain of each Feature (Each column in the database), \n",
    "    #   by attribute of set - attributes of value of attribute.\n",
    "\n",
    "    def calculate_entropy_of_each_feature(self, df):\n",
    "        # Return information gain dictionary of all attributes\n",
    "        # This can be further processed to find the best attribute (highest information gain).\n",
    "        information_gain_dict = {}\n",
    "        \n",
    "        # Gets number of values, used for Entropy denominator in entropy calculation.\n",
    "        col_domain = self.get_number_rows_in_dataframe(df)\n",
    "        \n",
    "        # remove 'play-tennis' (or whatever the classification_column is)\n",
    "        # EX: ['play-tennis', outlook' 'temperature' 'humidity' 'wind'] -> ['outlook' 'temperature' 'humidity' 'wind']\n",
    "        usable_attributes = df.columns.values\n",
    "        usable_attributes= usable_attributes[usable_attributes != self.__classification_column]\n",
    "        #usable_attributes = df.drop([self.__classification_column], axis=1)[column].unique()\n",
    "        \n",
    "        ## Traveres Attributes\n",
    "        for column in usable_attributes:\n",
    "            \n",
    "            ## Get unique values that occur in a Columns domain (the rows)\n",
    "            unique = self.get_unique_values_in_column_as_list(df, column)\n",
    "            #print(\"unique values are:\", unique)\n",
    "            \n",
    "            # Stores the calculation for the Entropy of the Attribute (the column)\n",
    "            entropy_of_attribute = 0\n",
    "            \n",
    "            # Go through each unique value in the attribute we are examining, one at a time.\n",
    "            for unique_val in unique:  # get one unique value at a time\n",
    "                \n",
    "                # Gets the count, the total \n",
    "                num_unique = self.get_num_unique_val_in_column(df, column, unique_val)\n",
    "                \n",
    "                df_for_unique_val = self.get_unique_values_in_column_that_match_criteria_as_a_dataframe(df, column, unique_val)\n",
    "                \n",
    "                # get # of positive class (Survived = 1)\n",
    "                # EX: p_sunny\n",
    "                p_val = self.get_num_unique_val_in_column(df_for_unique_val, self.__classification_column, \n",
    "                                                          self.__positive_class)  \n",
    "                \n",
    "                # get # of negative class (Survived = 0)\n",
    "                # EX: n_sunny\n",
    "                n_val = self.get_num_unique_val_in_column(df_for_unique_val, self.__classification_column, \n",
    "                                                          self.__negative_class)  \n",
    "                \n",
    "                # EX: Entropy(Outlook = Sunny)\n",
    "                entropy_of_a_val = self.calculate_entropy_of_dataset(df_for_unique_val)  # I_UniqueVal\n",
    "                \n",
    "                ## EX: (p_sunny + n_sunny)\n",
    "                attribute_mult_factor_numerator = (p_val + n_val)\n",
    "                \n",
    "                ## EX (p_sunny + n_sunny)/(p + n)\n",
    "                attribute_mult_factor_for_val = (attribute_mult_factor_numerator) / col_domain\n",
    "                                \n",
    "                # EX: (p_sunny + n_sunny)/(p + n) Entropy(Outlook = Sunny) + ...\n",
    "                entropy_of_attribute += attribute_mult_factor_for_val * entropy_of_a_val\n",
    "                \n",
    "                self.calculate_entropy_of_dataset(df)-entropy_of_attribute\n",
    "            \n",
    "            if (column != self.__classification_column):\n",
    "                # add to map of entries in column\n",
    "                information_gain_dict.update({column: self.calculate_entropy_of_dataset(df) \n",
    "                                              - entropy_of_attribute})  \n",
    "        return information_gain_dict\n",
    "    \n",
    "    # Traverse columns\n",
    "    # Select Attributes\n",
    "    # Computed InformationGain of each Feature (Each column in the database), \n",
    "    #   by attribute of set - attributes of value of attribute.\n",
    "\n",
    "    def calculate_entropy_of_each_feature_debug(self, df):\n",
    "        # Return information gain dictionary of all attributes\n",
    "        # This can be further processed to find the best attribute (highest information gain).\n",
    "        information_gain_dict = {}\n",
    "        \n",
    "        # Gets number of values, used for Entropy denominator in entropy calculation.\n",
    "        col_domain = self.get_number_rows_in_dataframe(df)\n",
    "        \n",
    "        usable_attributes = df.columns.values\n",
    "        usable_attributes= usable_attributes[usable_attributes != self.__classification_column]\n",
    "        \n",
    "        ## Traveres Attributes\n",
    "        for column in usable_attributes:\n",
    "            print (\"------------\")\n",
    "            print (\"column is:\", column)\n",
    "            print (\"------------\")\n",
    "            ## Every column except \"Survived\"\n",
    "            \n",
    "            ## Get unique values that occur in a Columns domain (the rows)\n",
    "            unique = self.get_unique_values_in_column_as_list(df, column)\n",
    "            print(\"unique values are:\", unique)\n",
    "            \n",
    "            # Stores the calculation for the Entropy of the Attribute (the column)\n",
    "            entropy_of_attribute = 0\n",
    "            \n",
    "            # Go through each unique value in the attribute we are examining, one at a time.\n",
    "            for unique_val in unique:  # get one unique value at a time\n",
    "                \n",
    "                # Gets the count, the total \n",
    "                num_unique = self.get_num_unique_val_in_column(df, column, unique_val)\n",
    "                print(\"num_unique for\", unique_val, \"is\", num_unique)\n",
    "                \n",
    "                #frac = num_unique / col_domain\n",
    "                ## returns a dataframe containing only rows that contain the uniqueVal\n",
    "                # EX: Only rows that contain \"sunny\" for Outlook\n",
    "                                \n",
    "                df_for_unique_val = self.get_unique_values_in_column_that_match_criteria_as_a_dataframe(df, column, unique_val)\n",
    "                \n",
    "                # get # of positive class (Survived = 1)\n",
    "                # EX: p_sunny\n",
    "                p_val = self.get_num_unique_val_in_column(df_for_unique_val, self.__classification_column, \n",
    "                                                          self.__positive_class)  \n",
    "                \n",
    "                # get # of negative class (Survived = 0)\n",
    "                # EX: n_sunny\n",
    "                n_val = self.get_num_unique_val_in_column(df_for_unique_val, self.__classification_column, \n",
    "                                                          self.__negative_class)  \n",
    "                \n",
    "                # EX: Entropy(Outlook = Sunny)\n",
    "                entropy_of_a_val = self.calculate_entropy_of_dataset(df_for_unique_val)  # I_UniqueVal\n",
    "                \n",
    "                ## EX: (p_sunny + n_sunny)\n",
    "                attribute_mult_factor_numerator = (p_val + n_val)\n",
    "                \n",
    "                ## EX (p_sunny + n_sunny)/(p + n)\n",
    "                attribute_mult_factor_for_val = (attribute_mult_factor_numerator) / col_domain\n",
    "                \n",
    "                # informationGainDict.update({uniqueVal:localEntropy}) ## add to map of entries in column\n",
    "                \n",
    "                # EX: (p_sunny + n_sunny)/(p + n) Entropy(Outlook = Sunny) + ...\n",
    "                entropy_of_attribute += attribute_mult_factor_for_val * entropy_of_a_val\n",
    "                \n",
    "                #print(\"\\t\", unique_val + \",\", \"entropy:\", entropy_of_a_val + \",\", \"p:\",  p_val + \",\", \"n:\", n_val)\n",
    "                print(\"\\t\", unique_val, \",\", \"entropy:\", entropy_of_a_val, \",\", \"p:\",  p_val, \",\", \"n:\", n_val)\n",
    "\n",
    "                \n",
    "                #print (\"\\t\\tEntropy of:\", column, \":\", entropy_of_attribute)\n",
    "                print (\"\\t\\tInformation Gain of:\", column, \":\", self.calculate_entropy_of_dataset(df)-entropy_of_attribute)\n",
    "            \n",
    "            if (column != self.__classification_column):\n",
    "                # add to map of entries in column\n",
    "                information_gain_dict.update({column: self.calculate_entropy_of_dataset(df) \n",
    "                                              - entropy_of_attribute})  \n",
    "        return information_gain_dict\n",
    "\n",
    "    \n",
    "    # -------------------------------\n",
    "    # -------------------------------\n",
    "    # -------------------------------\n",
    "    \n",
    "    # xxxxxxxxxxxxxxxxxxxxxxxxxxxxxxx\n",
    "\n",
    "    # -------------------------------\n",
    "    # -------------------------------\n",
    "    # -------------------------------\n",
    "    # Helper Methods:\n",
    "    # -------------------------------\n",
    "    # -------------------------------\n",
    "    # -------------------------------\n",
    "\n",
    "    \n",
    "    \n",
    "    # Return best splitting feature as tuple (String, informationGain)\n",
    "    def detetrmine_mode_output_of_dataframe_column (self, df, column):\n",
    "            storage_list = [\"\", -1]\n",
    "            unique_values = self.get_unique_values_in_column_as_list(df, column)\n",
    "            # calculate the count, store in output_tuple, find max\n",
    "            for unique_val in unique_values:\n",
    "                #print(\"unique val is:\", unique_val)\n",
    "                count = self.get_num_unique_val_in_column(df, column, unique_val)\n",
    "                if (count > storage_list[1]):\n",
    "                    storage_list[0] = unique_val\n",
    "                    storage_list[1] = count\n",
    "            return storage_list[0]\n",
    "    \n",
    "    \n",
    "    # given dictionary of rankings, return best information gain tuple.\n",
    "    def select_highest_information_gain(self, dictionary):\n",
    "        value = None\n",
    "        maxInformationGain = 0\n",
    "        for key in dictionary:\n",
    "            if (dictionary[key] > maxInformationGain):\n",
    "                value = key\n",
    "                maxInformationGain = dictionary[key]\n",
    "        return (value, maxInformationGain)\n",
    "\n",
    "        # Step 2: Calculate the Information Gain for Each Attribute\n",
    "        # https://stackoverflow.com/questions/16333296/how-do-you-create-nested-dict-in-python\n",
    "        #@staticmethod\n",
    "\n",
    "    def get_number_rows_in_dataframe(self, df):\n",
    "        return len(df)\n",
    "\n",
    "    def split_dataframe_for_the_unique_value_branches_as_a_tuple(self, df, column, unique_values):\n",
    "        dataframes_in_list = []\n",
    "        for unique_value in unique_values:\n",
    "            dataframes_in_list.append(self.get_unique_values_in_column_that_match_criteria_as_a_dataframe(df, column, unique_value))\n",
    "        dataframes_in_tuple = tuple(dataframes_in_list)\n",
    "        return dataframes_in_tuple\n",
    "    \n",
    "    \n",
    "    def get_unique_values_in_column_as_list(self, df, column):\n",
    "        unique = df[column].unique()  # unique values in column\n",
    "        return unique\n",
    "    \n",
    "\n",
    "    # EX: With Parameters: (playtennis, \"outlook\", \"sunny\")\n",
    "    '''\n",
    "        play-tennis outlook temperature humidity    wind\n",
    "    0             0   sunny         hot     high    weak\n",
    "    1             0   sunny         hot     high  strong\n",
    "    7             0   sunny        mild     high    weak\n",
    "    8             1   sunny        cool   normal    weak\n",
    "    10            1   sunny        mild   normal  strong\n",
    "    '''\n",
    "    def get_unique_values_in_column_that_match_criteria_as_a_dataframe(self, df, column, unique_val):\n",
    "        #unique = (df[column] == unique_val)\n",
    "        unique_values_in_column = df.loc[df[column] == unique_val]\n",
    "        return unique_values_in_column\n",
    "    \n",
    "    ## df: dataframe, dataset\n",
    "    ## column: string, representing column name\n",
    "    ## unique_val: int, represents value we want to find the rows for\n",
    "    \n",
    "    ## This function extracts a column of values\n",
    "    ## Then it extracts a column of values, such that the values only match the unique_val\n",
    "    ## Then this subset column is summed, and the domain is returned (the number of elements)\n",
    "    def get_num_unique_val_in_column(self, df, column, unique_val):\n",
    "        numUnique = (df[column] == unique_val).sum()\n",
    "        return numUnique\n",
    "\n",
    "\n",
    "\n",
    "    def setRoot(self, root):\n",
    "        self.__root = root\n",
    "\n",
    "    def getRoot(self):\n",
    "        return self.__root\n",
    "\n",
    "    def leaf(self, df):\n",
    "        uniqueVals = df[self.__classification_column].unique()\n",
    "        print(uniqueVals)\n",
    "        if (len(uniqueVals) == 1):\n",
    "            return (True, uniqueVals[0])\n",
    "        else:\n",
    "            return (False, 0)\n",
    "        \n",
    "    ## EX: if root has id of 57, and two children have id of 58 & 59:\n",
    "    ## [[57, 58], [57, 59]]\n",
    "    def generate_edges(self, root):\n",
    "        output=[]  \n",
    "        for child in root.get_branches():\n",
    "            output.append([str(root.get_unique_id()), str(child.get_unique_id())])\n",
    "        return output\n",
    "\n",
    "        \n",
    "    #----------------------------------------------------\n",
    "    # Tree Building:\n",
    "    # - Get a dataframe.\n",
    "    #    - Compute Entropy of Set\n",
    "    #    - Compute Entropy of features\n",
    "    #    - Compute best feature and information gain, choose that feature for your split\n",
    "    \n",
    "    # - Split n-partitioned dataframes to fulfill split based on the features\n",
    "    #    - add n-branches to the current decision tree root node\n",
    "    #      - On each of these branches, call buildDecisionTree on each child, \n",
    "    #         and pass in the associated splitted dataframe for that child value\n",
    "     \n",
    "    \n",
    "    \n",
    "    ## Create root node, then call helper to recurse for the rest of the tree\n",
    "    ## attribute: best feature for information gain of that df\n",
    "    ## label: choise that was made previously to get to that location\n",
    "     \n",
    "\n",
    "    ## create root node\n",
    "    def build_decision_tree(self, df, id3, depth=0, root=None, maxDepth=sys.maxsize):\n",
    "\n",
    "        ## Compute best feature to split on\n",
    "        best_feature_to_split_on_tuple = self.detetrmine_best_splitting_feature(df)\n",
    "        best_feature_to_split_on_name = best_feature_to_split_on_tuple[0]\n",
    "\n",
    "        ## If the top node in tree is a leaf.\n",
    "        if best_feature_to_split_on_name is None: ## Leaf Node\n",
    "            # Get Classification Value (EX 1 or 0)\n",
    "            best_feature_to_split_on_leaf_classification = self.detetrmine_mode_output_of_dataframe_column(df, self.__classification_column)\n",
    "            root.set_attribute(best_feature_to_split_on_leaf_classification)\n",
    "            root.set_is_leaf(True) ## toggle that it is a leaf\n",
    "            \n",
    "        elif depth != maxDepth:  # not leaf & not depth restricted\n",
    "            # Set Root attributes to best_feature (column) in dataframe.\n",
    "            root = DecisionNode(best_feature_to_split_on_name)\n",
    "            root.set_label(best_feature_to_split_on_name) # EX: \"Sunny\"\n",
    "\n",
    "            # Get unique values in dataframe best_feature column. Each unique value will become a child.\n",
    "            # Traverse branches, call child.bulid_tree_helper(child)\n",
    "            branches = self.get_unique_values_in_column_as_list(df, best_feature_to_split_on_name)\n",
    "            for unique_val in branches:\n",
    "                # assign child label to their unique_val (the choice made to reach them)\n",
    "                child = DecisionNode(\"child\") ## create child\n",
    "                # Get Child Datafram\n",
    "                child_dataframe = self.get_unique_values_in_column_that_match_criteria_as_a_dataframe(df, best_feature_to_split_on_name, unique_val)\n",
    "                child = id3.build_decision_tree(child_dataframe, id3, (depth + 1), child) # build out tree of branch\n",
    "                child.set_label(unique_val) # EX: \"Sunny\"\n",
    "                root.add_branch(child) ## add built-out branches\n",
    "        return root\n",
    "    \n",
    "\n",
    "\n",
    "    \n",
    "    def print_tree_in_order(self, node, depth = 0):\n",
    "        #print(\"printing\")\n",
    "        prefix = \"\"\n",
    "        if (depth > 0):\n",
    "            prefix = ' ' * 3 * depth + \"|\" + \"---\" + str(node.get_label())  + \"---\"\n",
    "        if (node is None):\n",
    "            return\n",
    "        print (prefix, str(node.get_attribute()), str(node.get_unique_id()))\n",
    "        #print (\"leaf\",  node.get_is_leaf())\n",
    "        if (not node.get_is_leaf()): # internal node\n",
    "            #print(\"if\")\n",
    "            for val in node.get_branches(): # traverse branches\n",
    "                self.print_tree_in_order(val, (depth+1))\n",
    "\n",
    "    # https://graphviz.readthedocs.io/en/stable/manual.html\n",
    "    def create_visual_of_tree(self, node):\n",
    "        digraph = Digraph(comment='The Round Table')\n",
    "        self.create_visual_of_tree_helper(node, digraph)        \n",
    "        digraph.render('tree', view=True)     \n",
    "        \n",
    "    # if not leaf (internal node)\n",
    "    #  - create node of root using id\n",
    "    #    - compute: [[\"root.id\", \"child.id\", [\"root.id\", \"child2.id\"]]]\n",
    "    #       - (Get all branches, m)\n",
    "    def create_visual_of_tree_helper(self, root, digraph):\n",
    "        if (root is None):\n",
    "            return\n",
    "        if (not root.get_is_leaf()): # internal node\n",
    "            #print (root.get_unique_id())\n",
    "            #print (root.get_attribute())\n",
    "            digraph.node(str(root.get_unique_id()), root.get_attribute())\n",
    "            children = root.get_branches()\n",
    "            for child in children: # create child nodes\n",
    "                digraph.node(str(child.get_unique_id()), str(child.get_attribute()))\n",
    "                digraph.edge(str(root.get_unique_id()), str(child.get_unique_id()), str(child.get_label()))\n",
    "            for child in root.get_branches(): # traverse branches\n",
    "                self.create_visual_of_tree_helper(child, digraph)\n",
    "                \n",
    "                \n",
    "    # EX: Each node is a column\n",
    "    ## Take that column, extract just that column, find which brach matches the decision in your column\n",
    "    ## Then do the same thing, but then change root\n",
    "    \n",
    "    ## OUR DATAFRAME CAN REMAIN THE ROW THE ENTIRE TIME, WE\"RE JUST MOVING THE ROOT, AND CHANGING OUR QUERY\n",
    "    ## BASED ON THE ATTRIBUTE IN THE ROOT.\n",
    "    def classify_value(self, root, row_to_classify):\n",
    "        if (root is None):\n",
    "            return\n",
    "        if (not root.get_is_leaf()): # internal node\n",
    "            # Get Column we're at (Root attribute)\n",
    "            column = root.get_attribute()\n",
    "            # Get column value from row_to_classify\n",
    "            value = self.get_unique_values_in_column_as_list(row_to_classify, column)[0]\n",
    "            \n",
    "            ## make a list\n",
    "            branches = root.get_branches()\n",
    "            length = len(branches)\n",
    "            found_branch = False\n",
    "            i = 0\n",
    "            child = None\n",
    "            while (not found_branch and i < length):\n",
    "                branch = branches[i]\n",
    "                i += 1\n",
    "                if (branch.get_label() == value):\n",
    "                    found_branch = True\n",
    "                    child = branch\n",
    "            \n",
    "            return self.classify_value(child, row_to_classify)\n",
    "            \n",
    "        else: # leaf (this is our classification value to return)\n",
    "            return root.get_attribute()\n",
    "\n",
    "    ## outputs list\n",
    "    ## (classification)\n",
    "\n",
    "    def classify_values_output_list(self, root, data_to_classify):\n",
    "        output = []\n",
    "        for i in range(0, len(data_to_classify)):\n",
    "            row = data_to_classify.loc[i : i]\n",
    "            classification = id3Titanic.classify_value(root, row)\n",
    "            output.append(classification)\n",
    "        return output  \n",
    "    \n",
    "    def classification_values_output_list_old(self, root, data_to_classify):\n",
    "        num_rows = len(data_to_classify)\n",
    "        output_list = []\n",
    "        for i in range(1, num_rows+1):\n",
    "            row_to_classify = titanic_data_clean.loc[i : i]\n",
    "            classification = self.classify_value(root, row_to_classify)\n",
    "            output_list.append(classification)\n",
    "        return output_list\n",
    "    \n",
    "\n",
    "        \n",
    "\n",
    "\n",
    "    def selfToStr(self, indent=0):\n",
    "        print(self)\n"
   ]
  },
  {
   "cell_type": "code",
   "execution_count": 32,
   "metadata": {},
   "outputs": [],
   "source": [
    "# Node of ID3 Decision Tree\n",
    "class DecisionNode:\n",
    "    ## class variables:\n",
    "    unique_id = 0\n",
    "    \n",
    "    ## Private Variables\n",
    "    __attribute = None  # Attribute (EX: 'Age')\n",
    "    __branches = []     # Branches (Other Columns (Internal Nodes), or Discrete Classification Value (Leaf))\n",
    "    __is_leaf = False\n",
    "    __label = \"\"      # label of lines on current node with parent (Choice made in split made to get new subset)\n",
    "    __unique_id = 0 # used for graphing tree\n",
    "    \n",
    "    # Constructor\n",
    "    def __init__(self, attribute=None):\n",
    "        self.__attribute = attribute  \n",
    "        self.__branches = [] \n",
    "        self.__is_leaf = False\n",
    "        self.__label = \"\"  \n",
    "        self.__unique_id = DecisionNode.unique_id\n",
    "        DecisionNode.unique_id += 1\n",
    "\n",
    "    # --------------------\n",
    "    # Getters and Setters:\n",
    "    # --------------------\n",
    "    def get_attribute(self):\n",
    "        return self.__attribute\n",
    "    def set_attribute(self, attribute):\n",
    "        self.__attribute = attribute\n",
    "\n",
    "    def get_branches(self):\n",
    "        return self.__branches\n",
    "\n",
    "    def add_branch(self, branch):\n",
    "        self.__branches.append(branch)\n",
    "\n",
    "    def get_is_leaf(self):\n",
    "        return self.__is_leaf\n",
    "\n",
    "    def set_is_leaf(self, is_leaf):\n",
    "        self.__is_leaf = is_leaf\n",
    "\n",
    "    def get_label(self):\n",
    "        return self.__label\n",
    "\n",
    "    def set_label(self, label):\n",
    "        self.__label = label\n",
    "        \n",
    "    def get_unique_id(self):\n",
    "        return self.__unique_id"
   ]
  },
  {
   "cell_type": "markdown",
   "metadata": {},
   "source": [
    "# ------------------------------\n",
    "# My ID3 Tree:"
   ]
  },
  {
   "cell_type": "markdown",
   "metadata": {},
   "source": [
    "# (c) Build trees of a depth maximum specified as part of invoking the tree building function. A user should be able to specify the max depth. (35 points)\n",
    "- (Note, this does not support specifying depth)"
   ]
  },
  {
   "cell_type": "code",
   "execution_count": 33,
   "metadata": {},
   "outputs": [],
   "source": [
    "# BUILD TREE\n",
    "id3Titanic = ID3(\"Survived\", 1, 0)\n",
    "titanic_tree = id3Titanic.build_decision_tree(XY_ID3_train, id3Titanic)"
   ]
  },
  {
   "cell_type": "markdown",
   "metadata": {},
   "source": [
    "# (d) output the learned tree as a both object code and as a visual interpretable model. (20 points)"
   ]
  },
  {
   "cell_type": "code",
   "execution_count": 34,
   "metadata": {},
   "outputs": [],
   "source": [
    "# save the model to disk\n",
    "filename = 'finalized_ID3_decision_tree_mode.sav'\n",
    "pickle.dump(titanic_tree, open(filename, 'wb'))"
   ]
  },
  {
   "cell_type": "code",
   "execution_count": 35,
   "metadata": {},
   "outputs": [],
   "source": [
    "# load the model from disk\n",
    "titanic_tree = pickle.load(open(filename, 'rb'))"
   ]
  },
  {
   "cell_type": "code",
   "execution_count": 36,
   "metadata": {},
   "outputs": [],
   "source": [
    "# Build Visual of Tree:\n",
    "# outputs to tree.pdf\n",
    "id3Titanic.create_visual_of_tree(titanic_tree)"
   ]
  },
  {
   "cell_type": "markdown",
   "metadata": {},
   "source": [
    "# (e) output a confusion matrix from the constructed tree on the test set. Compute accuracy, precision, recall and obtain an AUC plot of the classifier ( you don’t have to code the plotting functions). You can reuse any library but you have to output the data in a way that the plotting function can be invoked. (5 points)"
   ]
  },
  {
   "cell_type": "code",
   "execution_count": 37,
   "metadata": {},
   "outputs": [
    {
     "name": "stdout",
     "output_type": "stream",
     "text": [
      "[0, 1, 1, 1, 0, 0, 0, 99, 1, 1, 0, 1, 0, 0, 1, 1, 0, 0, 1, 1, 0, 0, 1, 0, 0, 0, 0, 99, 1, 0, 0, 1, 1, 0, 1, 1, 0, 0, 1, 1, 1, 1, 0, 1, 1, 0, 0, 1, 1, 1, 0, 0, 1, 1, 0, 0, 1, 0, 1, 0, 0, 1, 1, 0, 0, 0, 1, 0, 0, 0, 0, 99, 0, 0, 1, 0, 0, 0, 1, 1, 0, 0, 1, 0, 1, 0, 0, 0, 1, 0, 0, 0, 1, 0, 0, 0, 0, 0, 1, 0, 1, 0, 0, 0, 0, 0, 1, 0, 0, 1, 0, 1, 0, 1, 1, 0, 0, 0, 0, 0, 0, 0, 0, 1, 0, 0, 0, 0, 1, 0, 0, 0, 1, 1, 0, 0, 1, 1, 0, 0, 1, 1, 1, 0, 0, 0, 0, 0, 0, 0, 0, 1, 0, 99, 0, 0, 1, 0, 0, 0, 0, 1, 0, 0, 0, 0, 1, 99, 0, 1, 0, 0, 0, 0, 0, 0, 99, 1]\n",
      "178\n"
     ]
    }
   ],
   "source": [
    "# Classification (training) Results:\n",
    "def classify_more(root, data_to_classify):\n",
    "    output = []\n",
    "    for i in range(0, len(data_to_classify)):\n",
    "        row = data_to_classify.loc[i : i]\n",
    "        classification = id3Titanic.classify_value(root, row)\n",
    "        output.append(classification)\n",
    "        #print (classification)\n",
    "    return output    \n",
    "trained_output = classify_more(titanic_tree, XY_ID3_test)\n",
    "# Get rid of None's that appear (this is a hack) - I'm not sure why None's are appearing\n",
    "trained_output = [99 if v is None else v for v in trained_output]\n",
    "\n",
    "print (trained_output)\n",
    "\n",
    "\n",
    "print(len(trained_output))"
   ]
  },
  {
   "cell_type": "code",
   "execution_count": 38,
   "metadata": {},
   "outputs": [
    {
     "name": "stdout",
     "output_type": "stream",
     "text": [
      "<class 'list'>\n"
     ]
    }
   ],
   "source": [
    "# Actual Data\n",
    "test_output = XY_ID3_test[\"Survived\"].to_list()\n",
    "\n",
    "print(list)\n",
    "#print(len(list))"
   ]
  },
  {
   "cell_type": "code",
   "execution_count": 39,
   "metadata": {},
   "outputs": [],
   "source": [
    "'''\n",
    "# True/False is related your classification (the prediction)\n",
    "# I.E., if it's False, you predicted it wrong.\n",
    "# Positive/Negative maps to the real world instance.\n",
    "TP = True Positive: Actual = 1, Predicted = 1\n",
    "TN = True Negative: Actual = 0, Predicted = 0\n",
    "FP = False Positive: Actual = 1, Predicted = 0\n",
    " - EX: They survived on Titanic but you guessed they died, where 1 = survived.\n",
    "FN = False Negative: Actual = 0, Predicted = 1\n",
    "'''\n",
    "\n",
    "def comp_TP_TN_FP_FN(y_test, y_pred):\n",
    "    TP = TN = FP = FN = 0\n",
    "    \n",
    "    for i in range (len(y_test)):\n",
    "        if (y_test[i] == 1 and y_pred[i] == 1): ## True Positive\n",
    "            TP += 1\n",
    "        if (y_test[i] == 0 and y_pred[i] == 0): ## True Negative\n",
    "            TN += 1\n",
    "        if (y_test[i] == 1 and y_pred[i] == 0): ## False Positive\n",
    "            FP += 1\n",
    "        if (y_test[i] == 0 and y_pred[i] == 1): ## False Negative\n",
    "            FN += 1\n",
    "    return(TP, TN, FP, FN)\n",
    "    "
   ]
  },
  {
   "cell_type": "code",
   "execution_count": 40,
   "metadata": {},
   "outputs": [
    {
     "name": "stdout",
     "output_type": "stream",
     "text": [
      "-----------------\n",
      "My ID3 Tree Statistics:\n",
      "-----------------\n",
      "[ 41 , 20 ]\n",
      "[ 18 , 93 ]\n",
      "precision is: 0.6949152542372882\n",
      "accuracy is: 0.7790697674418605\n",
      "true positive rate (Recall) is: 0.6721311475409836\n",
      "false positive rate is: 0.36936936936936937\n"
     ]
    }
   ],
   "source": [
    "model_eval = comp_TP_TN_FP_FN(test_output, trained_output)\n",
    "TP = model_eval[0]\n",
    "TN = model_eval[1]\n",
    "FP = model_eval[2]\n",
    "FN = model_eval[3]\n",
    "\n",
    "print(\"-----------------\")\n",
    "print (\"My ID3 Tree Statistics:\")\n",
    "print(\"-----------------\")\n",
    "\n",
    "# Print Confusion Matrix\n",
    "print (\"[\", TP, \",\", FN, \"]\")\n",
    "print (\"[\", FP, \",\", TN, \"]\")\n",
    "\n",
    "\n",
    "\n",
    "\n",
    "## (TP)/(TP + FP)\n",
    "def calc_precision(model_eval):\n",
    "    tp = model_eval[0]\n",
    "    fp = model_eval[2]\n",
    "    return (tp)/(tp + fp)\n",
    "\n",
    "print (\"precision is:\", calc_precision(model_eval))\n",
    "\n",
    "## (TP+TN)/(TP + TN + FP + FN)\n",
    "def calc_accuracy(model_eval):\n",
    "    tp = model_eval[0]\n",
    "    tn = model_eval[1]\n",
    "    fp = model_eval[2]\n",
    "    fn = model_eval[3]\n",
    "    return (tp + tn)/(tp + tn + fp + fn)\n",
    "\n",
    "print (\"accuracy is:\", calc_accuracy(model_eval))\n",
    "\n",
    "## (TP)/(TP+FN)\n",
    "def calc_true_positive_rate(model_eval):\n",
    "    tp = model_eval[0]\n",
    "    fn = model_eval[3]\n",
    "    return (tp)/(tp + fn)\n",
    "\n",
    "decision_tree_tpr = calc_true_positive_rate(model_eval)\n",
    "print (\"true positive rate (Recall) is:\", decision_tree_tpr)\n",
    "\n",
    "\n",
    "\n",
    "## (TP)/(TN+FP)\n",
    "def calc_false_positive_rate(model_eval):\n",
    "    tp = model_eval[0]\n",
    "    tn = model_eval[1]\n",
    "    fp = model_eval[2]\n",
    "    return (tp)/(tn + fp)\n",
    "\n",
    "decision_tree_fpr = calc_false_positive_rate(model_eval)\n",
    "print (\"false positive rate is:\", decision_tree_fpr)"
   ]
  },
  {
   "cell_type": "markdown",
   "metadata": {},
   "source": [
    "# ---------------------------------\n",
    "# SCIKIT-LEARN TREE!!!!"
   ]
  },
  {
   "cell_type": "code",
   "execution_count": 41,
   "metadata": {},
   "outputs": [
    {
     "data": {
      "text/plain": [
       "DecisionTreeClassifier()"
      ]
     },
     "execution_count": 41,
     "metadata": {},
     "output_type": "execute_result"
    }
   ],
   "source": [
    "from sklearn.tree import DecisionTreeClassifier\n",
    "classifier_scikit = DecisionTreeClassifier()\n",
    "classifier_scikit.fit(X_train, y_train)"
   ]
  },
  {
   "cell_type": "code",
   "execution_count": 42,
   "metadata": {},
   "outputs": [
    {
     "data": {
      "text/plain": [
       "0.7877094972067039"
      ]
     },
     "execution_count": 42,
     "metadata": {},
     "output_type": "execute_result"
    }
   ],
   "source": [
    "classifier_scikit.score(X_test, y_test)"
   ]
  },
  {
   "cell_type": "code",
   "execution_count": 43,
   "metadata": {},
   "outputs": [
    {
     "name": "stdout",
     "output_type": "stream",
     "text": [
      "---------------------------\n",
      "Scikit-Learn Tree:\n",
      "Confusion Matrix (below):\n",
      "[[84 18]\n",
      " [20 57]]\n",
      "Accuracy score:  0.7877094972067039\n",
      "Precision score:  0.76\n",
      "Recall score:  0.7402597402597403\n",
      "---------------------------\n"
     ]
    }
   ],
   "source": [
    "from sklearn.metrics import confusion_matrix\n",
    "from sklearn.metrics import accuracy_score\n",
    "from sklearn.metrics import precision_score\n",
    "from sklearn.metrics import recall_score\n",
    "\n",
    "print(\"---------------------------\")\n",
    "print(\"Scikit-Learn Tree:\")\n",
    "y_pred_scikit = classifier_scikit.predict(X_test)\n",
    "print(\"Confusion Matrix (below):\")\n",
    "print(confusion_matrix(y_test, y_pred_scikit))\n",
    "print(\"Accuracy score: \", accuracy_score(y_test, y_pred_scikit))\n",
    "print(\"Precision score: \", precision_score(y_test, y_pred_scikit))\n",
    "print(\"Recall score: \", recall_score(y_test, y_pred_scikit))\n",
    "print(\"---------------------------\")\n"
   ]
  },
  {
   "cell_type": "code",
   "execution_count": 44,
   "metadata": {},
   "outputs": [],
   "source": [
    "# ROC PLOT\n",
    "#classifier_scikit.decision_function(X_test)"
   ]
  },
  {
   "cell_type": "code",
   "execution_count": 45,
   "metadata": {},
   "outputs": [
    {
     "name": "stdout",
     "output_type": "stream",
     "text": [
      "SCIKIT: AUROC = 0.856\n"
     ]
    }
   ],
   "source": [
    "from sklearn.metrics import roc_curve, roc_auc_score\n",
    "#r_auc = roc_auc_score(Y_test, r_probs)\n",
    "scikit_probs = classifier_scikit.predict_proba(X_test)\n",
    "scikit_probs = scikit_probs[:, 1] # keep the positive outcomes\n",
    "scikit_auc = roc_auc_score(y_test, scikit_probs)\n",
    "print('SCIKIT: AUROC = %.3f' % (scikit_auc))\n",
    "# fpr and tpr will be used to create the ROC curve\n",
    "scikit_fpr, scikit_tpr, _ = roc_curve(y_test, scikit_probs)"
   ]
  },
  {
   "cell_type": "code",
   "execution_count": 46,
   "metadata": {},
   "outputs": [
    {
     "data": {
      "image/png": "[encoded data removed]",
      "text/plain": [
       "<Figure size 432x288 with 1 Axes>"
      ]
     },
     "metadata": {
      "needs_background": "light"
     },
     "output_type": "display_data"
    }
   ],
   "source": [
    "import matplotlib.pyplot as plt\n",
    "plt.plot(scikit_fpr, scikit_tpr, linestyle='--', label='Scikit-Learn Tree prediction (AUROC = %0.3f)' % scikit_auc)\n",
    "\n",
    "# my tree:\n",
    "#plt.plot(decision_tree_fpr, decision_tree_tpr, linestyle='--', label='My ID3 Decision Tree prediction')\n",
    "\n",
    "\n",
    "# Title\n",
    "plt.title('ROC Plot')\n",
    "# Axis labels\n",
    "plt.xlabel('False Positive Rate')\n",
    "plt.ylabel('True Positive Rate')\n",
    "# Show legend\n",
    "plt.legend() \n",
    "# Show plot\n",
    "plt.show()"
   ]
  },
  {
   "cell_type": "markdown",
   "metadata": {},
   "source": [
    "# (g) Compare your coded tree’s metrics with the standard sklearn decision tree implementation and discuss why it is similar or dissimilar. (5 points)"
   ]
  },
  {
   "cell_type": "markdown",
   "metadata": {},
   "source": [
    "### - The values for Sci-kit learn are:\n",
    "\n",
    "```\n",
    "Scikit-Learn Tree:\n",
    "Confusion Matrix (below):\n",
    "[[95 12]\n",
    "[28 44]]\n",
    "Accuracy score:  0.776536312849162\n",
    "Precision score:  0.7857142857142857\n",
    "Recall score:  0.6111111111111112\n",
    "```\n",
    "\n",
    "### - The values for my ID3 tree are:\n",
    "\n",
    "```\n",
    "-----------------\n",
    "My ID3 Tree Statistics:\n",
    "-----------------\n",
    "[ 41 , 20 ]\n",
    "[ 18 , 93 ]\n",
    "precision is: 0.6949152542372882\n",
    "accuracy is: 0.7790697674418605\n",
    "true positive rate (Recall) is: 0.6721311475409836\n",
    "false positive rate is: 0.36936936936936937\n",
    "````\n",
    "## OK, so what?\n",
    "- It should be noted that sci-kit learn uses the random split of data, my ID3 uses bottom 80% for training, top 20% for testing.\n",
    "- So while they are using the same original dataset, the testing and training sets used will be slighly different.\n",
    "\n",
    "- However, if we just look at the statistics given:\n",
    "  - We can see that my tree is slightly more accurate than the SciKit learn tree (0.779 vs 0.776)\n",
    "  - However, my tree is a little less precise (0.695 vs 0.785)\n",
    "  - However, my recall score is better than Scikit's (0.672 vs 0.6111)\n",
    "    \n",
    "\n",
    "\n"
   ]
  }
 ],
 "metadata": {
  "kernelspec": {
   "display_name": "Python 3",
   "language": "python",
   "name": "python3"
  },
  "language_info": {
   "codemirror_mode": {
    "name": "ipython",
    "version": 3
   },
   "file_extension": ".py",
   "mimetype": "text/x-python",
   "name": "python",
   "nbconvert_exporter": "python",
   "pygments_lexer": "ipython3",
   "version": "3.8.5"
  }
 },
 "nbformat": 4,
 "nbformat_minor": 4
}
